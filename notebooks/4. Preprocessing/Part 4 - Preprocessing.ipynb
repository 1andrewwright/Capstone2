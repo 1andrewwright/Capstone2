{
 "cells": [
  {
   "cell_type": "code",
   "execution_count": 11,
   "id": "d38521ac",
   "metadata": {},
   "outputs": [],
   "source": [
    "import pandas as pd\n",
    "from sklearn.preprocessing import StandardScaler\n",
    "from sklearn.model_selection import train_test_split"
   ]
  },
  {
   "cell_type": "code",
   "execution_count": 12,
   "id": "f4278fd9",
   "metadata": {},
   "outputs": [],
   "source": [
    "df=pd.read_csv('../../data/clean/dfu.csv')"
   ]
  },
  {
   "cell_type": "code",
   "execution_count": 13,
   "id": "69fb7bdd",
   "metadata": {
    "scrolled": false
   },
   "outputs": [
    {
     "data": {
      "text/plain": [
       "Index(['state_area', 'price', 'year', 'manufacturer', 'model', 'condition',\n",
       "       'cylinders', 'fuel', 'odometer', 'title', 'transmission', 'drive',\n",
       "       'size', 'type', 'color', 'posting_date', 'State', 'region', 'division',\n",
       "       'VIN_p', 'image_url_p'],\n",
       "      dtype='object')"
      ]
     },
     "execution_count": 13,
     "metadata": {},
     "output_type": "execute_result"
    }
   ],
   "source": [
    "df.columns"
   ]
  },
  {
   "cell_type": "code",
   "execution_count": 14,
   "id": "4994e7aa",
   "metadata": {},
   "outputs": [],
   "source": [
    "df2=df[['price','year','odometer','manufacturer','cylinders','fuel','title','transmission','drive','type','color']]"
   ]
  },
  {
   "cell_type": "code",
   "execution_count": 15,
   "id": "08dc83cd",
   "metadata": {},
   "outputs": [
    {
     "data": {
      "text/html": [
       "<div>\n",
       "<style scoped>\n",
       "    .dataframe tbody tr th:only-of-type {\n",
       "        vertical-align: middle;\n",
       "    }\n",
       "\n",
       "    .dataframe tbody tr th {\n",
       "        vertical-align: top;\n",
       "    }\n",
       "\n",
       "    .dataframe thead th {\n",
       "        text-align: right;\n",
       "    }\n",
       "</style>\n",
       "<table border=\"1\" class=\"dataframe\">\n",
       "  <thead>\n",
       "    <tr style=\"text-align: right;\">\n",
       "      <th></th>\n",
       "      <th>price</th>\n",
       "      <th>year</th>\n",
       "      <th>odometer</th>\n",
       "      <th>manufacturer</th>\n",
       "      <th>cylinders</th>\n",
       "      <th>fuel</th>\n",
       "      <th>title</th>\n",
       "      <th>transmission</th>\n",
       "      <th>drive</th>\n",
       "      <th>type</th>\n",
       "      <th>color</th>\n",
       "    </tr>\n",
       "  </thead>\n",
       "  <tbody>\n",
       "    <tr>\n",
       "      <th>0</th>\n",
       "      <td>44999</td>\n",
       "      <td>2020</td>\n",
       "      <td>22219</td>\n",
       "      <td>jeep</td>\n",
       "      <td>NaN</td>\n",
       "      <td>gas</td>\n",
       "      <td>clean</td>\n",
       "      <td>automatic</td>\n",
       "      <td>4wd</td>\n",
       "      <td>suv</td>\n",
       "      <td>red</td>\n",
       "    </tr>\n",
       "    <tr>\n",
       "      <th>1</th>\n",
       "      <td>20999</td>\n",
       "      <td>2018</td>\n",
       "      <td>55569</td>\n",
       "      <td>chevrolet</td>\n",
       "      <td>NaN</td>\n",
       "      <td>gas</td>\n",
       "      <td>clean</td>\n",
       "      <td>automatic</td>\n",
       "      <td>4wd</td>\n",
       "      <td>suv</td>\n",
       "      <td>white</td>\n",
       "    </tr>\n",
       "    <tr>\n",
       "      <th>2</th>\n",
       "      <td>69862</td>\n",
       "      <td>2019</td>\n",
       "      <td>34316</td>\n",
       "      <td>ford</td>\n",
       "      <td>NaN</td>\n",
       "      <td>diesel</td>\n",
       "      <td>clean</td>\n",
       "      <td>automatic</td>\n",
       "      <td>4wd</td>\n",
       "      <td>truck</td>\n",
       "      <td>grey</td>\n",
       "    </tr>\n",
       "    <tr>\n",
       "      <th>3</th>\n",
       "      <td>33999</td>\n",
       "      <td>2016</td>\n",
       "      <td>62693</td>\n",
       "      <td>volvo</td>\n",
       "      <td>NaN</td>\n",
       "      <td>gas</td>\n",
       "      <td>clean</td>\n",
       "      <td>automatic</td>\n",
       "      <td>4wd</td>\n",
       "      <td>suv</td>\n",
       "      <td>blue</td>\n",
       "    </tr>\n",
       "    <tr>\n",
       "      <th>4</th>\n",
       "      <td>44999</td>\n",
       "      <td>2019</td>\n",
       "      <td>29017</td>\n",
       "      <td>chevrolet</td>\n",
       "      <td>NaN</td>\n",
       "      <td>gas</td>\n",
       "      <td>clean</td>\n",
       "      <td>automatic</td>\n",
       "      <td>4wd</td>\n",
       "      <td>truck</td>\n",
       "      <td>blue</td>\n",
       "    </tr>\n",
       "  </tbody>\n",
       "</table>\n",
       "</div>"
      ],
      "text/plain": [
       "   price  year  odometer manufacturer cylinders    fuel  title transmission  \\\n",
       "0  44999  2020     22219         jeep       NaN     gas  clean    automatic   \n",
       "1  20999  2018     55569    chevrolet       NaN     gas  clean    automatic   \n",
       "2  69862  2019     34316         ford       NaN  diesel  clean    automatic   \n",
       "3  33999  2016     62693        volvo       NaN     gas  clean    automatic   \n",
       "4  44999  2019     29017    chevrolet       NaN     gas  clean    automatic   \n",
       "\n",
       "  drive   type  color  \n",
       "0   4wd    suv    red  \n",
       "1   4wd    suv  white  \n",
       "2   4wd  truck   grey  \n",
       "3   4wd    suv   blue  \n",
       "4   4wd  truck   blue  "
      ]
     },
     "execution_count": 15,
     "metadata": {},
     "output_type": "execute_result"
    }
   ],
   "source": [
    "df2.head()"
   ]
  },
  {
   "cell_type": "code",
   "execution_count": 16,
   "id": "fcf260ff",
   "metadata": {
    "scrolled": true
   },
   "outputs": [
    {
     "name": "stdout",
     "output_type": "stream",
     "text": [
      "Index(['price', 'year', 'odometer', 'manufacturer_audi', 'manufacturer_bmw',\n",
      "       'manufacturer_buick', 'manufacturer_cadillac', 'manufacturer_chevrolet',\n",
      "       'manufacturer_chrysler', 'manufacturer_datsun', 'manufacturer_dodge',\n",
      "       'manufacturer_ferrari', 'manufacturer_fiat', 'manufacturer_ford',\n",
      "       'manufacturer_gmc', 'manufacturer_honda', 'manufacturer_hyundai',\n",
      "       'manufacturer_infiniti', 'manufacturer_jaguar', 'manufacturer_jeep',\n",
      "       'manufacturer_kia', 'manufacturer_lexus', 'manufacturer_lincoln',\n",
      "       'manufacturer_mazda', 'manufacturer_mercedes-benz',\n",
      "       'manufacturer_mercury', 'manufacturer_mini', 'manufacturer_mitsubishi',\n",
      "       'manufacturer_nissan', 'manufacturer_pontiac', 'manufacturer_porsche',\n",
      "       'manufacturer_ram', 'manufacturer_rover', 'manufacturer_saturn',\n",
      "       'manufacturer_subaru', 'manufacturer_tesla', 'manufacturer_toyota',\n",
      "       'manufacturer_volkswagen', 'manufacturer_volvo',\n",
      "       'cylinders_3 cylinders', 'cylinders_4 cylinder',\n",
      "       'cylinders_4 cylinders', 'cylinders_5 cylinders',\n",
      "       'cylinders_6 cylinder', 'cylinders_6 cylinders',\n",
      "       'cylinders_8 cylinders', 'cylinders_other', 'fuel_electric', 'fuel_gas',\n",
      "       'fuel_hybrid', 'fuel_other', 'title_lien', 'title_rebuilt',\n",
      "       'title_salvage', 'transmission_manual', 'transmission_other',\n",
      "       'drive_4x4', 'drive_awd', 'drive_fwd', 'drive_rwd', 'type_convertible',\n",
      "       'type_coupe', 'type_hatchback', 'type_mini-van', 'type_offroad',\n",
      "       'type_other', 'type_pickup', 'type_sedan', 'type_suv', 'type_truck',\n",
      "       'type_van', 'type_wagon', 'color_blue', 'color_brown', 'color_custom',\n",
      "       'color_green', 'color_grey', 'color_orange', 'color_purple',\n",
      "       'color_red', 'color_silver', 'color_white', 'color_yellow'],\n",
      "      dtype='object')\n"
     ]
    }
   ],
   "source": [
    "df1_final = pd.get_dummies(df2, drop_first=True)\n",
    "print(df1_final.columns)"
   ]
  },
  {
   "cell_type": "code",
   "execution_count": 17,
   "id": "8e9e6c5e",
   "metadata": {},
   "outputs": [],
   "source": [
    "X_head = df1_final.iloc[:, df1_final.columns != 'price']\n",
    "X = df1_final.loc[:, df1_final.columns != 'price']\n",
    "y = df1_final['price']\n",
    "X = StandardScaler().fit_transform(X)\n",
    "X_train, X_test, y_train, y_test = train_test_split(X, y, test_size=.25, random_state=0)"
   ]
  }
 ],
 "metadata": {
  "kernelspec": {
   "display_name": "Python 3 (ipykernel)",
   "language": "python",
   "name": "python3"
  },
  "language_info": {
   "codemirror_mode": {
    "name": "ipython",
    "version": 3
   },
   "file_extension": ".py",
   "mimetype": "text/x-python",
   "name": "python",
   "nbconvert_exporter": "python",
   "pygments_lexer": "ipython3",
   "version": "3.9.12"
  }
 },
 "nbformat": 4,
 "nbformat_minor": 5
}
