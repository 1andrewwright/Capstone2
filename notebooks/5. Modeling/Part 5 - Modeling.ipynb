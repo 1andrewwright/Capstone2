{
 "cells": [
  {
   "cell_type": "code",
   "execution_count": 40,
   "id": "eb0d54f0",
   "metadata": {},
   "outputs": [],
   "source": [
    "import random\n",
    "import pandas as pd\n",
    "import seaborn as sns\n",
    "import numpy as np\n",
    "import matplotlib.pyplot as plt\n",
    "from sklearn.metrics import mean_absolute_error\n",
    "from sklearn.model_selection import train_test_split\n",
    "from sklearn.tree import DecisionTreeRegressor\n",
    "from sklearn.ensemble import RandomForestRegressor\n",
    "from sklearn.preprocessing import StandardScaler\n",
    "from sklearn.model_selection import cross_val_score"
   ]
  },
  {
   "cell_type": "code",
   "execution_count": 2,
   "id": "bf9051f5",
   "metadata": {},
   "outputs": [],
   "source": [
    "df=pd.read_csv('../../data/clean/dfu.csv')"
   ]
  },
  {
   "cell_type": "code",
   "execution_count": 6,
   "id": "9350c9af",
   "metadata": {
    "scrolled": true
   },
   "outputs": [],
   "source": [
    "df2=df[['price','odometer','manufacturer', 'model', 'condition',\n",
    "       'cylinders', 'size','fuel','title', 'transmission', 'drive', 'type', 'color']]"
   ]
  },
  {
   "cell_type": "code",
   "execution_count": 7,
   "id": "5de8382e",
   "metadata": {},
   "outputs": [
    {
     "name": "stdout",
     "output_type": "stream",
     "text": [
      "Index(['price', 'odometer', 'manufacturer_audi', 'manufacturer_bmw',\n",
      "       'manufacturer_buick', 'manufacturer_cadillac', 'manufacturer_chevrolet',\n",
      "       'manufacturer_chrysler', 'manufacturer_datsun', 'manufacturer_dodge',\n",
      "       ...\n",
      "       'color_brown', 'color_custom', 'color_green', 'color_grey',\n",
      "       'color_orange', 'color_purple', 'color_red', 'color_silver',\n",
      "       'color_white', 'color_yellow'],\n",
      "      dtype='object', length=725)\n"
     ]
    }
   ],
   "source": [
    "df1_final = pd.get_dummies(df2, drop_first=True)\n",
    "print(df1_final.columns)"
   ]
  },
  {
   "cell_type": "code",
   "execution_count": 17,
   "id": "f17be7e4",
   "metadata": {},
   "outputs": [],
   "source": [
    "X_head = df1_final.iloc[:, df1_final.columns != 'price']\n",
    "X = df1_final.loc[:, df1_final.columns != 'price']\n",
    "y = df1_final['price']\n",
    "X = StandardScaler().fit_transform(X)\n",
    "X_train, X_test, y_train, y_test = train_test_split(X, y, test_size=.25, random_state=1)"
   ]
  },
  {
   "cell_type": "code",
   "execution_count": 19,
   "id": "ba19dacf",
   "metadata": {},
   "outputs": [
    {
     "data": {
      "text/plain": [
       "DecisionTreeRegressor(random_state=1)"
      ]
     },
     "execution_count": 19,
     "metadata": {},
     "output_type": "execute_result"
    }
   ],
   "source": [
    "dtr = DecisionTreeRegressor(random_state=1)\n",
    "dtr.fit(X_train, y_train)"
   ]
  },
  {
   "cell_type": "code",
   "execution_count": 47,
   "id": "1c81d42f",
   "metadata": {
    "scrolled": true
   },
   "outputs": [
    {
     "name": "stdout",
     "output_type": "stream",
     "text": [
      "MAE: 7,308\n"
     ]
    }
   ],
   "source": [
    "test_predictions = dtr.predict(X_test)\n",
    "test_mae = mean_absolute_error(test_predictions, y_test)\n",
    "print(\"MAE: {:,.0f}\".format(test_mae))"
   ]
  },
  {
   "cell_type": "code",
   "execution_count": 48,
   "id": "6648939d",
   "metadata": {},
   "outputs": [],
   "source": [
    "def get_mae(max_leaf_nodes, X_train, X_test, y_train, y_test):\n",
    "    model = DecisionTreeRegressor(max_leaf_nodes=max_leaf_nodes, random_state=0)\n",
    "    model.fit(X_train, y_train)\n",
    "    preds_test = model.predict(X_test)\n",
    "    mae = mean_absolute_error(y_test, preds_test)\n",
    "    return(mae)"
   ]
  },
  {
   "cell_type": "code",
   "execution_count": 49,
   "id": "234b756a",
   "metadata": {},
   "outputs": [],
   "source": [
    "candidate_max_leaf_nodes = [5, 25, 50, 100, 250, 500]\n",
    "scores = {leaf_size: get_mae(leaf_size, X_train, X_test, y_train, y_test) for leaf_size in candidate_max_leaf_nodes}\n",
    "best_tree_size = min(scores, key=scores.get)"
   ]
  },
  {
   "cell_type": "code",
   "execution_count": 32,
   "id": "35da9afd",
   "metadata": {},
   "outputs": [
    {
     "data": {
      "text/plain": [
       "DecisionTreeRegressor(max_leaf_nodes=500, random_state=1)"
      ]
     },
     "execution_count": 32,
     "metadata": {},
     "output_type": "execute_result"
    }
   ],
   "source": [
    "final_model = DecisionTreeRegressor(max_leaf_nodes=best_tree_size, random_state=1)\n",
    "final_model.fit(X, y)"
   ]
  },
  {
   "cell_type": "code",
   "execution_count": 53,
   "id": "a2f49944",
   "metadata": {},
   "outputs": [
    {
     "name": "stdout",
     "output_type": "stream",
     "text": [
      "MAE: 460\n"
     ]
    }
   ],
   "source": [
    "test_predictions = final_model.predict(X_test)\n",
    "test_mae = mean_absolute_error(test_predictions, y_test)\n",
    "print(\"MAE: {:,.0f}\".format(test_mae))"
   ]
  },
  {
   "cell_type": "markdown",
   "id": "4f4cb00c",
   "metadata": {},
   "source": [
    " random forest"
   ]
  },
  {
   "cell_type": "code",
   "execution_count": 54,
   "id": "060cb068",
   "metadata": {},
   "outputs": [
    {
     "name": "stdout",
     "output_type": "stream",
     "text": [
      "MAE: 3,502\n"
     ]
    }
   ],
   "source": [
    "rf_model = RandomForestRegressor(random_state=1)\n",
    "rf_model.fit(X_train, y_train)\n",
    "rf_test_predictions = rf_model.predict(X_test)\n",
    "rf_test_mae = mean_absolute_error(rf_test_predictions, y_test)\n",
    "print(\"MAE: {:,.0f}\".format(rf_test_mae))"
   ]
  },
  {
   "cell_type": "code",
   "execution_count": 55,
   "id": "3405665a",
   "metadata": {},
   "outputs": [],
   "source": [
    "scores = []\n",
    "forest = RandomForestRegressor(n_estimators=20, random_state=0)\n",
    "acc = cross_val_score(forest, X_train, y_train, scoring='r2', cv=5)\n",
    "scores.append(round(acc.mean()*100,2))"
   ]
  },
  {
   "cell_type": "code",
   "execution_count": 56,
   "id": "09b3902f",
   "metadata": {
    "scrolled": true
   },
   "outputs": [
    {
     "data": {
      "text/html": [
       "<div>\n",
       "<style scoped>\n",
       "    .dataframe tbody tr th:only-of-type {\n",
       "        vertical-align: middle;\n",
       "    }\n",
       "\n",
       "    .dataframe tbody tr th {\n",
       "        vertical-align: top;\n",
       "    }\n",
       "\n",
       "    .dataframe thead th {\n",
       "        text-align: right;\n",
       "    }\n",
       "</style>\n",
       "<table border=\"1\" class=\"dataframe\">\n",
       "  <thead>\n",
       "    <tr style=\"text-align: right;\">\n",
       "      <th></th>\n",
       "      <th>Metrics</th>\n",
       "      <th>Accuracy</th>\n",
       "    </tr>\n",
       "  </thead>\n",
       "  <tbody>\n",
       "    <tr>\n",
       "      <th>0</th>\n",
       "      <td>R2</td>\n",
       "      <td>71.32</td>\n",
       "    </tr>\n",
       "  </tbody>\n",
       "</table>\n",
       "</div>"
      ],
      "text/plain": [
       "  Metrics  Accuracy\n",
       "0      R2     71.32"
      ]
     },
     "execution_count": 56,
     "metadata": {},
     "output_type": "execute_result"
    }
   ],
   "source": [
    "results = pd.DataFrame({\n",
    "    'Metrics': ['R2'],\n",
    "    'Accuracy': scores})\n",
    "results"
   ]
  }
 ],
 "metadata": {
  "kernelspec": {
   "display_name": "Python 3 (ipykernel)",
   "language": "python",
   "name": "python3"
  },
  "language_info": {
   "codemirror_mode": {
    "name": "ipython",
    "version": 3
   },
   "file_extension": ".py",
   "mimetype": "text/x-python",
   "name": "python",
   "nbconvert_exporter": "python",
   "pygments_lexer": "ipython3",
   "version": "3.9.12"
  }
 },
 "nbformat": 4,
 "nbformat_minor": 5
}
